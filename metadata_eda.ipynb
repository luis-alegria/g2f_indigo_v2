{
 "cells": [
  {
   "cell_type": "code",
   "execution_count": null,
   "id": "6ea44a87",
   "metadata": {},
   "outputs": [],
   "source": [
    "import pandas as pd\n",
    "import numpy as np\n",
    "import seaborn as sns\n",
    "import matplotlib.pyplot as plt\n",
    "\n",
    "plt.style.use('ggplot')\n",
    "sns.set_palette('Set2')"
   ]
  },
  {
   "cell_type": "markdown",
   "id": "cf0664fb",
   "metadata": {},
   "source": [
    "![alt text](corn_graphic.png \"Corn Stages\")"
   ]
  },
  {
   "cell_type": "code",
   "execution_count": null,
   "id": "1f4dc99a",
   "metadata": {},
   "outputs": [],
   "source": [
    "data = pd.read_csv('G2F_Indigo_metadata.csv')"
   ]
  },
  {
   "cell_type": "code",
   "execution_count": null,
   "id": "902509fd",
   "metadata": {},
   "outputs": [],
   "source": [
    "data.shape"
   ]
  },
  {
   "cell_type": "code",
   "execution_count": null,
   "id": "fab824f3",
   "metadata": {},
   "outputs": [],
   "source": [
    "data.head(10)"
   ]
  },
  {
   "cell_type": "code",
   "execution_count": null,
   "id": "1faf9fd3",
   "metadata": {},
   "outputs": [],
   "source": [
    "data.dtypes"
   ]
  },
  {
   "cell_type": "markdown",
   "id": "b4f1f448",
   "metadata": {},
   "source": [
    "<h1 style=\"text-align: center;\">Missing Values and Duplicates</h1>"
   ]
  },
  {
   "cell_type": "code",
   "execution_count": null,
   "id": "220fff41",
   "metadata": {},
   "outputs": [],
   "source": [
    "# Plot of missing values in each column, add value to bars\n",
    "\n",
    "missing_values = data.isnull().sum()\n",
    "plt.figure(figsize=(10, 6))\n",
    "plot = plt.bar(missing_values.index, missing_values.values)\n",
    "plt.bar_label(plot, label_type = 'edge')\n",
    "plt.xticks(rotation = 90)\n",
    "plt.xlabel('Feature')\n",
    "plt.ylabel('Number of Missing Values')\n",
    "plt.title('Missing Value Count by Feature')\n",
    "plt.show()"
   ]
  },
  {
   "cell_type": "code",
   "execution_count": null,
   "id": "0225563e",
   "metadata": {},
   "outputs": [],
   "source": [
    "# Convert sample_id and plant_id to Int64 to deal with missing values\n",
    "data['sample_id'] = data['sample_id'].astype('Int64')\n",
    "data['plant_id'] = data['plant_id'].astype('Int64')"
   ]
  },
  {
   "cell_type": "code",
   "execution_count": null,
   "id": "fb2d4308",
   "metadata": {},
   "outputs": [],
   "source": [
    "# Zea mays the only species?\n",
    "data['crop'].unique()"
   ]
  },
  {
   "cell_type": "code",
   "execution_count": null,
   "id": "c85b7f33",
   "metadata": {},
   "outputs": [],
   "source": [
    "# Duplicated rows? None\n",
    "\n",
    "data[data.duplicated()]"
   ]
  },
  {
   "cell_type": "code",
   "execution_count": null,
   "id": "ab7357a2",
   "metadata": {},
   "outputs": [],
   "source": [
    "# Look at duplicates in sequence_label (This connects to FASTQ files), sort values\n",
    "\n",
    "seq_label_dups = data[data.duplicated(subset=['sequence_label'], keep=False)]\n",
    "seq_label_dups = seq_label_dups.sort_values(by='sequence_label')\n",
    "\n",
    "seq_label_dups.head(10)"
   ]
  },
  {
   "cell_type": "code",
   "execution_count": null,
   "id": "617c48ba",
   "metadata": {},
   "outputs": [],
   "source": [
    "print(f'Total duplicated sequence_label entries: {int(len(seq_label_dups) / 2)}')"
   ]
  },
  {
   "cell_type": "code",
   "execution_count": null,
   "id": "4a2ab91d",
   "metadata": {},
   "outputs": [],
   "source": [
    "# Groupby sequence_label, check if sample_id had exactly one Nan and exactly one Int, check if all True\n",
    "\n",
    "pattern_check = seq_label_dups.groupby('sequence_label')['sample_id']\n",
    "\n",
    "pattern_check = pattern_check.apply(lambda x: x.isnull().sum() == 1 and x.dropna().nunique() == 1) # Boolean series\n",
    "\n",
    "print(f'All same pattern? {pattern_check.all()}')"
   ]
  },
  {
   "cell_type": "code",
   "execution_count": null,
   "id": "9298ccd7",
   "metadata": {},
   "outputs": [],
   "source": [
    "# Is Nan entry index < Int entry index?\n",
    "\n"
   ]
  }
 ],
 "metadata": {
  "kernelspec": {
   "display_name": "python_env",
   "language": "python",
   "name": "python3"
  },
  "language_info": {
   "codemirror_mode": {
    "name": "ipython",
    "version": 3
   },
   "file_extension": ".py",
   "mimetype": "text/x-python",
   "name": "python",
   "nbconvert_exporter": "python",
   "pygments_lexer": "ipython3",
   "version": "3.13.5"
  }
 },
 "nbformat": 4,
 "nbformat_minor": 5
}
