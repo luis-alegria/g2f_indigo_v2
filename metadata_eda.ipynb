{
 "cells": [
  {
   "cell_type": "markdown",
   "id": "1cb55260",
   "metadata": {},
   "source": [
    "<h1 style=\"text-align: center;\">Exploratory Data Analysis of G2F-Indigo Metadata</h1>"
   ]
  },
  {
   "cell_type": "markdown",
   "id": "4a32d09d",
   "metadata": {},
   "source": [
    " Write brief intro and major steps in data wrangling."
   ]
  },
  {
   "cell_type": "code",
   "execution_count": null,
   "id": "6ea44a87",
   "metadata": {},
   "outputs": [],
   "source": [
    "import pandas as pd\n",
    "import numpy as np\n",
    "import seaborn as sns\n",
    "import matplotlib.pyplot as plt\n",
    "\n",
    "plt.style.use('ggplot')\n",
    "sns.set_palette('Set2')"
   ]
  },
  {
   "cell_type": "markdown",
   "id": "cf0664fb",
   "metadata": {},
   "source": [
    "![alt text](corn_graphic.png \"Corn Stages\")"
   ]
  },
  {
   "cell_type": "code",
   "execution_count": null,
   "id": "1f4dc99a",
   "metadata": {},
   "outputs": [],
   "source": [
    "data = pd.read_csv('G2F_Indigo_metadata.csv')"
   ]
  },
  {
   "cell_type": "code",
   "execution_count": null,
   "id": "902509fd",
   "metadata": {},
   "outputs": [],
   "source": [
    "data.shape"
   ]
  },
  {
   "cell_type": "code",
   "execution_count": null,
   "id": "fab824f3",
   "metadata": {},
   "outputs": [],
   "source": [
    "data.head(10)"
   ]
  },
  {
   "cell_type": "code",
   "execution_count": null,
   "id": "1faf9fd3",
   "metadata": {},
   "outputs": [],
   "source": [
    "data.dtypes"
   ]
  },
  {
   "cell_type": "markdown",
   "id": "b4f1f448",
   "metadata": {},
   "source": [
    "<h2 style=\"text-align: center;\">Missing Values and Duplicates</h2>"
   ]
  },
  {
   "cell_type": "code",
   "execution_count": null,
   "id": "220fff41",
   "metadata": {},
   "outputs": [],
   "source": [
    "# Plot of missing values in each column, add value to bars\n",
    "\n",
    "missing_values = data.isnull().sum()\n",
    "plt.figure(figsize=(10, 6))\n",
    "na_plot = plt.bar(missing_values.index, missing_values.values)\n",
    "plt.bar_label(na_plot, label_type = 'edge')\n",
    "plt.xticks(rotation = 90)\n",
    "plt.xlabel('Feature')\n",
    "plt.ylabel('Number of Missing Values')\n",
    "plt.title('Missing Value Count by Feature')\n",
    "plt.show()"
   ]
  },
  {
   "cell_type": "code",
   "execution_count": null,
   "id": "0225563e",
   "metadata": {},
   "outputs": [],
   "source": [
    "# Convert sample_id and plant_id to Int64 to deal with missing values\n",
    "data['sample_id'] = data['sample_id'].astype('Int64')\n",
    "data['plant_id'] = data['plant_id'].astype('Int64')"
   ]
  },
  {
   "cell_type": "code",
   "execution_count": null,
   "id": "fb2d4308",
   "metadata": {},
   "outputs": [],
   "source": [
    "# Zea mays the only species?\n",
    "data['crop'].unique()"
   ]
  },
  {
   "cell_type": "code",
   "execution_count": null,
   "id": "c85b7f33",
   "metadata": {},
   "outputs": [],
   "source": [
    "# Duplicate rows? None\n",
    "\n",
    "data[data.duplicated()]"
   ]
  },
  {
   "cell_type": "code",
   "execution_count": null,
   "id": "ab7357a2",
   "metadata": {},
   "outputs": [],
   "source": [
    "# Look at duplicates in sequence_label (This connects to FASTQ files), sort values\n",
    "\n",
    "seq_label_dups = data[data.duplicated(subset=['sequence_label'], keep=False)]\n",
    "seq_label_dups = seq_label_dups.sort_values(by='sequence_label')\n",
    "\n",
    "seq_label_dups.head(20)"
   ]
  },
  {
   "cell_type": "code",
   "execution_count": null,
   "id": "617c48ba",
   "metadata": {},
   "outputs": [],
   "source": [
    "print(f'Total duplicated sequence_label entries: {int(len(seq_label_dups) / 2)}')"
   ]
  },
  {
   "cell_type": "code",
   "execution_count": null,
   "id": "4a2ab91d",
   "metadata": {},
   "outputs": [],
   "source": [
    "# Groupby sequence_label,  check if all True\n",
    "grouped = seq_label_dups.groupby('sequence_label')['sample_id']\n",
    "\n",
    "# check if sample_id had exactly one Nan and exactly one Int\n",
    "pattern_check = grouped.apply(lambda x: x.isnull().sum() == 1 and x.dropna().nunique() == 1) # Boolean series\n",
    "\n",
    "# Is Int entry index < NaN entry index?\n",
    "index_check = grouped.apply(lambda x: list(x[~x.isnull()].index)[0] < list(x[x.isnull()].index)[0])\n",
    "\n",
    "print(f'All same pattern? {pattern_check.all()}')\n",
    "\n",
    "print(f'For all, Int index < NaN index? {index_check.all()}')"
   ]
  },
  {
   "cell_type": "code",
   "execution_count": null,
   "id": "a93ac56b",
   "metadata": {},
   "outputs": [],
   "source": [
    "print(f'Entries Before Drop: {len(data)}')\n",
    "\n",
    "# Drop duplicates in sequence_label, keep Int entry in sample_id\n",
    "\n",
    "data = data.drop_duplicates(subset=['sequence_label'], keep='first')\n",
    "\n",
    "print(f'Entries After Drop: {len(data)}')"
   ]
  },
  {
   "cell_type": "code",
   "execution_count": null,
   "id": "5fb28c2f",
   "metadata": {},
   "outputs": [],
   "source": [
    "# drop entry if plant_ id is missing\n",
    "data = data.dropna(subset=['plant_id'])"
   ]
  },
  {
   "cell_type": "code",
   "execution_count": null,
   "id": "3fd54632",
   "metadata": {},
   "outputs": [],
   "source": [
    "missing_values_2 = data.isnull().sum()\n",
    "plt.figure(figsize=(10, 6))\n",
    "plot2 = plt.bar(missing_values_2.index, missing_values_2.values)\n",
    "plt.bar_label(plot2, label_type = 'edge')\n",
    "plt.xticks(rotation = 90)\n",
    "plt.xlabel('Feature')\n",
    "plt.ylabel('Number of Missing Values')\n",
    "plt.title('Missing Value Count by Feature After Cleaning')\n",
    "plt.show()"
   ]
  },
  {
   "cell_type": "code",
   "execution_count": null,
   "id": "797e6f7d",
   "metadata": {},
   "outputs": [],
   "source": [
    "print(f'Samples Remaining: {len(data)}')"
   ]
  },
  {
   "cell_type": "markdown",
   "id": "26732753",
   "metadata": {},
   "source": [
    "<h2 style=\"text-align: center;\">Location and GPS Coordinates</h2>"
   ]
  },
  {
   "cell_type": "code",
   "execution_count": null,
   "id": "237e0648",
   "metadata": {},
   "outputs": [],
   "source": [
    "# Unique combos of state, location features then count, then sort\n",
    "\n",
    "geo_combos = data.groupby(['state', 'location']).size()\n",
    "geo_combos = geo_combos.reset_index(name='count')\n",
    "geo_combos.sort_values(by='state', ascending=True)\n",
    "\n",
    "# Discrepancy between MI and Mississippi combo."
   ]
  },
  {
   "cell_type": "code",
   "execution_count": null,
   "id": "abe7daee",
   "metadata": {},
   "outputs": [],
   "source": [
    "data[data['location'] == 'Mississippi']\n",
    "\n",
    "# GPS coordinates => Burdett, Mississippi, most likely data entry error."
   ]
  },
  {
   "cell_type": "code",
   "execution_count": null,
   "id": "64f6f55e",
   "metadata": {},
   "outputs": [],
   "source": [
    "# Correcting the state to MS for Mississippi\n",
    "data.loc[data['location'] == 'Mississippi', 'state'] = 'MS'"
   ]
  },
  {
   "cell_type": "code",
   "execution_count": null,
   "id": "ec5f754a",
   "metadata": {},
   "outputs": [],
   "source": [
    "# plot of count by state \n",
    "\n",
    "state_count = data['state'].value_counts()\n",
    "\n",
    "plt.figure(figsize=(10, 6))\n",
    "plot3 = plt.bar(state_count.index, state_count.values)\n",
    "plt.bar_label(plot3, label_type = 'edge')\n",
    "plt.xlabel('State')\n",
    "plt.ylabel('Count')\n",
    "plt.title('Count of Samples by State')\n",
    "plt.show()\n"
   ]
  },
  {
   "cell_type": "code",
   "execution_count": null,
   "id": "8005c2f7",
   "metadata": {},
   "outputs": [],
   "source": [
    "# select row if state is TX or KS\n",
    "data[(data['state'] == 'TX') | (data['state'] == 'KS')]\n",
    "\n",
    "# GPS Coordinates are in Kansas, not Texas, correct entries\n",
    "data.loc[data['location'] == 'Texas', 'state'] = 'KS'\n",
    "data.loc[data['location'] == 'Texas', 'location'] = 'Kansas'\n"
   ]
  },
  {
   "cell_type": "code",
   "execution_count": null,
   "id": "88938e44",
   "metadata": {},
   "outputs": [],
   "source": [
    "state_count_2 = data['state'].value_counts()\n",
    "\n",
    "plt.figure(figsize=(10, 6))\n",
    "plot4 = plt.bar(state_count_2.index, state_count_2.values)\n",
    "plt.bar_label(plot4, label_type = 'edge')\n",
    "plt.xlabel('State')\n",
    "plt.ylabel('Count')\n",
    "plt.title('Count of Samples by State Corrected')\n",
    "plt.show()"
   ]
  },
  {
   "cell_type": "markdown",
   "id": "f0712b6a",
   "metadata": {},
   "source": [
    "<h2 style=\"text-align: center;\">Plant ID and Tissue Features</h2>"
   ]
  },
  {
   "cell_type": "code",
   "execution_count": null,
   "id": "33cd2eaa",
   "metadata": {},
   "outputs": [],
   "source": []
  }
 ],
 "metadata": {
  "kernelspec": {
   "display_name": "python",
   "language": "python",
   "name": "python3"
  },
  "language_info": {
   "codemirror_mode": {
    "name": "ipython",
    "version": 3
   },
   "file_extension": ".py",
   "mimetype": "text/x-python",
   "name": "python",
   "nbconvert_exporter": "python",
   "pygments_lexer": "ipython3",
   "version": "3.13.5"
  }
 },
 "nbformat": 4,
 "nbformat_minor": 5
}
